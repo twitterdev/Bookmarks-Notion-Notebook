{
 "cells": [
  {
   "cell_type": "code",
   "execution_count": null,
   "metadata": {},
   "outputs": [],
   "source": [
    "import requests\n",
    "import pandas as pd\n",
    "import tweepy\n",
    "import json\n",
    "import os"
   ]
  },
  {
   "cell_type": "markdown",
   "metadata": {},
   "source": [
    "First, you will need to enable OAuth 2.0 in your App’s auth settings in the Developer Portal to get your client ID. You will also need your callback URL, which can be obtained from your App's auth settings."
   ]
  },
  {
   "cell_type": "code",
   "execution_count": null,
   "metadata": {},
   "outputs": [],
   "source": [
    "%env CLIENT_ID your_client_id"
   ]
  },
  {
   "cell_type": "code",
   "execution_count": null,
   "metadata": {},
   "outputs": [],
   "source": [
    "oauth2_user_handler = tweepy.OAuth2UserHandler(\n",
    "    client_id=os.environ.get(\"CLIENT_ID\")),\n",
    "    redirect_uri=,\n",
    "    scope=[\"users.read\", \"tweet.read\", \"offline.access\", \"bookmark.read\"]\n",
    ")"
   ]
  },
  {
   "cell_type": "markdown",
   "metadata": {},
   "source": [
    "Visit the following URL to authorize your App on behalf of your Twitter handle in a browser."
   ]
  },
  {
   "cell_type": "code",
   "execution_count": null,
   "metadata": {},
   "outputs": [],
   "source": [
    "print(oauth2_user_handler.get_authorization_url())"
   ]
  },
  {
   "cell_type": "markdown",
   "metadata": {},
   "source": [
    "Replace where it says \"Paste in the full URL after you've authorized your App\" with the full URL from after you've authorized your App to your Twitter account. "
   ]
  },
  {
   "cell_type": "code",
   "execution_count": null,
   "metadata": {},
   "outputs": [],
   "source": [
    "access_token = oauth2_user_handler.fetch_token(\n",
    "    \"Paste in the full URL after you've authorized your App\"\n",
    ")"
   ]
  },
  {
   "cell_type": "code",
   "execution_count": null,
   "metadata": {},
   "outputs": [],
   "source": [
    "access = access_token['access_token']"
   ]
  },
  {
   "cell_type": "code",
   "execution_count": null,
   "metadata": {},
   "outputs": [],
   "source": [
    "user_me = requests.request(\"GET\", \"https://api.twitter.com/2/users/me\", headers={'Authorization': 'Bearer {}'.format(access)}).json()"
   ]
  },
  {
   "cell_type": "code",
   "execution_count": null,
   "metadata": {},
   "outputs": [],
   "source": [
    "user_me"
   ]
  },
  {
   "cell_type": "code",
   "execution_count": null,
   "metadata": {},
   "outputs": [],
   "source": [
    "user_id = user_me['data']['id']"
   ]
  },
  {
   "cell_type": "code",
   "execution_count": null,
   "metadata": {},
   "outputs": [],
   "source": [
    "url = \"https://api.twitter.com/2/users/{}/bookmarks\".format(user_id)"
   ]
  },
  {
   "cell_type": "code",
   "execution_count": null,
   "metadata": {},
   "outputs": [],
   "source": [
    "headers = {\n",
    "  'Content-Type': 'application/json',\n",
    "  'Authorization': 'Bearer {}'.format(access)\n",
    "}"
   ]
  },
  {
   "cell_type": "code",
   "execution_count": null,
   "metadata": {},
   "outputs": [],
   "source": [
    "response = requests.request(\"GET\", url, headers=headers).json()"
   ]
  },
  {
   "cell_type": "code",
   "execution_count": null,
   "metadata": {},
   "outputs": [],
   "source": [
    "bookmarked_tweets = pd.DataFrame(response[\"data\"])"
   ]
  },
  {
   "cell_type": "code",
   "execution_count": null,
   "metadata": {},
   "outputs": [],
   "source": [
    "bookmarked_tweets"
   ]
  },
  {
   "cell_type": "code",
   "execution_count": null,
   "metadata": {},
   "outputs": [],
   "source": [
    "username = user_me['data']['username']\n",
    "print(username)"
   ]
  },
  {
   "cell_type": "markdown",
   "metadata": {},
   "source": [
    "First, you will need to set up an integration directly in your Notion account and share your integration with the database you are looking to update. You can learn more about Notion’s API and how to get started in their [developer documentation](https://developers.notion.com/)."
   ]
  },
  {
   "cell_type": "code",
   "execution_count": null,
   "metadata": {},
   "outputs": [],
   "source": [
    "%env NOTION_DATABASE_ID your_database_id\n",
    "%env NOTION_API_KEY your_api_key"
   ]
  },
  {
   "cell_type": "code",
   "execution_count": null,
   "metadata": {},
   "outputs": [],
   "source": [
    "def notion_update(text):\n",
    "    url = \"https://api.notion.com/v1/pages\"\n",
    "    payload = json.dumps({\n",
    "      \"parent\": {\n",
    "        \"database_id\": \"{}\".format(os.environ.get(\"NOTION_DATABASE_ID\"))\n",
    "      },\n",
    "      \"properties\": {\n",
    "        \"title\": {\n",
    "          \"title\": [\n",
    "            {\n",
    "              \"text\": {\n",
    "                \"content\": \"{}\".format(text)\n",
    "              }\n",
    "            }\n",
    "          ]\n",
    "        }\n",
    "      }\n",
    "    })\n",
    "    headers = {\n",
    "      'Content-Type': 'application/json',\n",
    "      'Notion-Version': '2022-02-22',\n",
    "      'Authorization': 'Bearer {}'.format(os.environ.get(\"NOTION_API_KEY\"))\n",
    "    }\n",
    "    response = requests.request(\"POST\", url, headers=headers, data=payload)\n",
    "    print(response.text)"
   ]
  },
  {
   "cell_type": "code",
   "execution_count": null,
   "metadata": {},
   "outputs": [],
   "source": [
    "for index1, row1 in bookmarked_tweets.iterrows():\n",
    "    text = \"https://twitter.com/{}/status/{}\\n{}\".format(username, row1[\"id\"], row1[\"text\"])\n",
    "    notion_update(text)"
   ]
  },
  {
   "cell_type": "code",
   "execution_count": null,
   "metadata": {},
   "outputs": [],
   "source": []
  }
 ],
 "metadata": {
  "kernelspec": {
   "display_name": "Python 3",
   "language": "python",
   "name": "python3"
  },
  "language_info": {
   "codemirror_mode": {
    "name": "ipython",
    "version": 3
   },
   "file_extension": ".py",
   "mimetype": "text/x-python",
   "name": "python",
   "nbconvert_exporter": "python",
   "pygments_lexer": "ipython3",
   "version": "3.8.3"
  }
 },
 "nbformat": 4,
 "nbformat_minor": 4
}
